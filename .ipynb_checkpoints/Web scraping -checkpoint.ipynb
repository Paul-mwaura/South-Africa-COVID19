{
 "cells": [
  {
   "cell_type": "markdown",
   "id": "fa8db7c6",
   "metadata": {},
   "source": [
    "https://www.youtube.com/watch?v=uKb9fA4gyWQ"
   ]
  },
  {
   "cell_type": "markdown",
   "id": "28bff55f",
   "metadata": {},
   "source": [
    "https://www.worthwebscraping.com/scraping-news-websites-like-cnn-nbc-using-python/"
   ]
  },
  {
   "cell_type": "code",
   "execution_count": 4,
   "id": "5bb53b5d",
   "metadata": {},
   "outputs": [],
   "source": [
    "import pandas as pd\n",
    "import re\n",
    "\n",
    "data = pd.read_csv('newsZA.txt',header=None,error_bad_lines=False)\n"
   ]
  },
  {
   "cell_type": "code",
   "execution_count": 5,
   "id": "e4ca5dd6",
   "metadata": {},
   "outputs": [
    {
     "ename": "UnicodeDecodeError",
     "evalue": "'charmap' codec can't decode byte 0x9d in position 1406: character maps to <undefined>",
     "output_type": "error",
     "traceback": [
      "\u001b[1;31m---------------------------------------------------------------------------\u001b[0m",
      "\u001b[1;31mUnicodeDecodeError\u001b[0m                        Traceback (most recent call last)",
      "\u001b[1;32m~\\AppData\\Local\\Temp/ipykernel_10488/637878096.py\u001b[0m in \u001b[0;36m<module>\u001b[1;34m\u001b[0m\n\u001b[0;32m      1\u001b[0m \u001b[1;31m# Read in text file\u001b[0m\u001b[1;33m\u001b[0m\u001b[1;33m\u001b[0m\u001b[1;33m\u001b[0m\u001b[0m\n\u001b[1;32m----> 2\u001b[1;33m \u001b[0mtext\u001b[0m \u001b[1;33m=\u001b[0m \u001b[0mopen\u001b[0m\u001b[1;33m(\u001b[0m\u001b[1;34m\"newsZA.txt\"\u001b[0m\u001b[1;33m)\u001b[0m\u001b[1;33m.\u001b[0m\u001b[0mread\u001b[0m\u001b[1;33m(\u001b[0m\u001b[1;33m)\u001b[0m\u001b[1;33m\u001b[0m\u001b[1;33m\u001b[0m\u001b[0m\n\u001b[0m\u001b[0;32m      3\u001b[0m \u001b[1;31m# Replace line breaks with spaces\u001b[0m\u001b[1;33m\u001b[0m\u001b[1;33m\u001b[0m\u001b[1;33m\u001b[0m\u001b[0m\n\u001b[0;32m      4\u001b[0m \u001b[0mtext\u001b[0m \u001b[1;33m=\u001b[0m \u001b[0mtext\u001b[0m\u001b[1;33m.\u001b[0m\u001b[0mreplace\u001b[0m\u001b[1;33m(\u001b[0m\u001b[1;34m'\\n'\u001b[0m\u001b[1;33m,\u001b[0m \u001b[1;34m' '\u001b[0m\u001b[1;33m)\u001b[0m\u001b[1;33m\u001b[0m\u001b[1;33m\u001b[0m\u001b[0m\n",
      "\u001b[1;32m~\\anaconda3\\lib\\encodings\\cp1252.py\u001b[0m in \u001b[0;36mdecode\u001b[1;34m(self, input, final)\u001b[0m\n\u001b[0;32m     21\u001b[0m \u001b[1;32mclass\u001b[0m \u001b[0mIncrementalDecoder\u001b[0m\u001b[1;33m(\u001b[0m\u001b[0mcodecs\u001b[0m\u001b[1;33m.\u001b[0m\u001b[0mIncrementalDecoder\u001b[0m\u001b[1;33m)\u001b[0m\u001b[1;33m:\u001b[0m\u001b[1;33m\u001b[0m\u001b[1;33m\u001b[0m\u001b[0m\n\u001b[0;32m     22\u001b[0m     \u001b[1;32mdef\u001b[0m \u001b[0mdecode\u001b[0m\u001b[1;33m(\u001b[0m\u001b[0mself\u001b[0m\u001b[1;33m,\u001b[0m \u001b[0minput\u001b[0m\u001b[1;33m,\u001b[0m \u001b[0mfinal\u001b[0m\u001b[1;33m=\u001b[0m\u001b[1;32mFalse\u001b[0m\u001b[1;33m)\u001b[0m\u001b[1;33m:\u001b[0m\u001b[1;33m\u001b[0m\u001b[1;33m\u001b[0m\u001b[0m\n\u001b[1;32m---> 23\u001b[1;33m         \u001b[1;32mreturn\u001b[0m \u001b[0mcodecs\u001b[0m\u001b[1;33m.\u001b[0m\u001b[0mcharmap_decode\u001b[0m\u001b[1;33m(\u001b[0m\u001b[0minput\u001b[0m\u001b[1;33m,\u001b[0m\u001b[0mself\u001b[0m\u001b[1;33m.\u001b[0m\u001b[0merrors\u001b[0m\u001b[1;33m,\u001b[0m\u001b[0mdecoding_table\u001b[0m\u001b[1;33m)\u001b[0m\u001b[1;33m[\u001b[0m\u001b[1;36m0\u001b[0m\u001b[1;33m]\u001b[0m\u001b[1;33m\u001b[0m\u001b[1;33m\u001b[0m\u001b[0m\n\u001b[0m\u001b[0;32m     24\u001b[0m \u001b[1;33m\u001b[0m\u001b[0m\n\u001b[0;32m     25\u001b[0m \u001b[1;32mclass\u001b[0m \u001b[0mStreamWriter\u001b[0m\u001b[1;33m(\u001b[0m\u001b[0mCodec\u001b[0m\u001b[1;33m,\u001b[0m\u001b[0mcodecs\u001b[0m\u001b[1;33m.\u001b[0m\u001b[0mStreamWriter\u001b[0m\u001b[1;33m)\u001b[0m\u001b[1;33m:\u001b[0m\u001b[1;33m\u001b[0m\u001b[1;33m\u001b[0m\u001b[0m\n",
      "\u001b[1;31mUnicodeDecodeError\u001b[0m: 'charmap' codec can't decode byte 0x9d in position 1406: character maps to <undefined>"
     ]
    }
   ],
   "source": [
    "# Read in text file\n",
    "text = open(\"newsZA.txt\",error_bad_lines=False).read()\n",
    "# Replace line breaks with spaces\n",
    "text = text.replace('\\n', ' ')"
   ]
  },
  {
   "cell_type": "code",
   "execution_count": 3,
   "id": "b60ac694",
   "metadata": {},
   "outputs": [
    {
     "data": {
      "text/plain": [
       "pandas.core.frame.DataFrame"
      ]
     },
     "execution_count": 3,
     "metadata": {},
     "output_type": "execute_result"
    }
   ],
   "source": [
    "type(data)"
   ]
  },
  {
   "cell_type": "code",
   "execution_count": 6,
   "id": "1ba740bd",
   "metadata": {},
   "outputs": [],
   "source": [
    "# Define a function to clean the text\n",
    "def clean(text):\n",
    "# Removes all special characters and numericals leaving the alphabets\n",
    "    text = re.sub('[^A-Za-z]+', ' ', text)\n",
    "    return text"
   ]
  },
  {
   "cell_type": "code",
   "execution_count": 8,
   "id": "510df427",
   "metadata": {},
   "outputs": [
    {
     "data": {
      "text/plain": [
       "' U S COVID cases start to rise again as the holidays approach Shots Health News NPR Accessibility links Skip to main content Keyboard shortcuts for audio player Open Navigation Menu NPR Shop Close Navigation Menu Home News Expand collapse submenu for News National World Politics Business Health Science Climate Race Arts Life Expand collapse submenu for Arts Life Books Movies Television Pop Culture Food Art Design Performing Arts Life Kit Music Expand collapse submenu for Music NowPlaying Tiny Desk All Songs Considered Music News Music Features Live Sessions Podcasts Shows Expand collapse submenu for Podcasts Shows Daily Morning Edition Weekend Edition Saturday Weekend Edition Sunday All Things Considered Fresh Air Up First Featured NPR s Book of the Day Wisdom From The Top with Guy Raz Invisibilia It s Been a Minute with Sam Sanders More Podcasts Shows Search NPR Shop NowPlaying Tiny Desk All Songs Considered Music News Music Features Live Sessions About NPR Diversity Organization Support Careers Connect Press Ethics Shots Health News From NPR Your Health Treatments Tests Health Inc Policy ish Public Health Twitter The Coronavirus Crisis U S COVID cases start to rise again as the holidays approach Facebook Twitter Flipboard Email Will Stone Enlarge this image Valerie Macon AFP via Getty Images hide caption toggle caption Valerie Macon AFP via Getty Images Valerie Macon AFP via Getty Images Health All vaccinated adults could soon be eligible for a Pfizer COVID booster shot COVID surge Facebook Twitter Flipboard Email Shots Health News From NPR Read Listen Home News Arts Life Music Podcasts Shows Connect Newsletters Facebook Twitter Instagram Press Contact Help About NPR Overview Diversity Ethics Finances Public Editor Corrections Get Involved Support Public Radio Sponsor NPR NPR Careers NPR Shop NPR Events NPR Extra Terms of Use Privacy Your Privacy Choices Text Only NPR thanks our sponsorsBecome an NPR sponsor'"
      ]
     },
     "execution_count": 8,
     "metadata": {},
     "output_type": "execute_result"
    }
   ],
   "source": [
    "clean(data)"
   ]
  },
  {
   "cell_type": "code",
   "execution_count": null,
   "id": "ea72bbc2",
   "metadata": {},
   "outputs": [],
   "source": []
  }
 ],
 "metadata": {
  "kernelspec": {
   "display_name": "Python 3 (ipykernel)",
   "language": "python",
   "name": "python3"
  },
  "language_info": {
   "codemirror_mode": {
    "name": "ipython",
    "version": 3
   },
   "file_extension": ".py",
   "mimetype": "text/x-python",
   "name": "python",
   "nbconvert_exporter": "python",
   "pygments_lexer": "ipython3",
   "version": "3.8.8"
  }
 },
 "nbformat": 4,
 "nbformat_minor": 5
}
